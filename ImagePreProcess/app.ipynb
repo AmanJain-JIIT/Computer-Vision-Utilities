{
 "cells": [
  {
   "cell_type": "code",
   "execution_count": 1,
   "metadata": {},
   "outputs": [],
   "source": [
    "from tkinter import Tk\n",
    "from tkinter import *\n",
    "from PIL import Image, ImageTk"
   ]
  },
  {
   "cell_type": "code",
   "execution_count": 12,
   "metadata": {},
   "outputs": [],
   "source": [
    "root = Tk()\n",
    "root.title(\"CV UTILS\")\n",
    "root.attributes(\"-zoomed\",True)\n",
    "\n",
    "frame = Frame(root, bg=\"black\")\n",
    "frame.pack(padx=20, pady=20)\n",
    "\n",
    "\n",
    "titleLabel = Label(frame, text=\"COMPUTER VISION UTILITIES\", font=(\"Times New Roman\", 60, \"bold\"), fg=\"white\", bg=\"black\")\n",
    "titleLabel.grid(row=0, column=0, columnspan=3, padx=100, pady=100)\n",
    "\n",
    "img = Image.open('/home/aman/Documents/WORK/My Projects/Machine Learning/Computer-Vision-Utilities/Images/imagePreProcessor.png')\n",
    "img = img.resize((200, 200))\n",
    "image = ImageTk.PhotoImage(img)\n",
    "\n",
    "imageProcessorButton = Button(frame, i=image, bg=\"white\")\n",
    "imageProcessorButton.photo=image\n",
    "imageProcessorButton.grid(row=1, column=0, padx=20, pady=(20, 0))\n",
    "\n",
    "imageProcessorLabel = Label(frame, text=\"Image Preprocessor\", font=(\"Times New Roman\", 20, \"bold\"), fg=\"white\", bg=\"black\")\n",
    "imageProcessorLabel.grid(row=2, column=0, padx=20, pady=(0, 20))\n",
    "\n",
    "\n",
    "img = Image.open('/home/aman/Documents/WORK/My Projects/Machine Learning/Computer-Vision-Utilities/Images/dataAugmentation.png')\n",
    "img = img.resize((200, 200))\n",
    "image = ImageTk.PhotoImage(img)\n",
    "\n",
    "dataAugmentationButton = Button(frame, i=image, bg=\"white\")\n",
    "dataAugmentationButton.photo=image\n",
    "dataAugmentationButton.grid(row=1, column=1, padx=20, pady=(20, 0))\n",
    "\n",
    "dataAugmentationLabel = Label(frame, text=\"Data Augmentation\", font=(\"Times New Roman\", 20, \"bold\"), fg=\"white\", bg=\"black\")\n",
    "dataAugmentationLabel.grid(row=2, column=1, padx=20, pady=(0, 40))\n",
    "\n",
    "\n",
    "img = Image.open('/home/aman/Documents/WORK/My Projects/Machine Learning/Computer-Vision-Utilities/Images/imageAnnotator.png')\n",
    "img = img.resize((200, 200))\n",
    "image = ImageTk.PhotoImage(img)\n",
    "\n",
    "imageAnnotatorButton = Button(frame, i=image, bg=\"white\")\n",
    "imageAnnotatorButton.photo=image\n",
    "imageAnnotatorButton.grid(row=1, column=2, padx=20, pady=(20, 0))\n",
    "\n",
    "imageAnnotatorLabel = Label(frame, text=\"Image Annotator\", font=(\"Times New Roman\", 20, \"bold\"), fg=\"white\", bg=\"black\")\n",
    "imageAnnotatorLabel.grid(row=2, column=2, padx=20, pady=(0, 20))\n",
    "\n",
    "\n",
    "img = Image.open('/home/aman/Documents/WORK/My Projects/Machine Learning/Computer-Vision-Utilities/Images/autoML.jpg')\n",
    "img = img.resize((200, 200))\n",
    "image = ImageTk.PhotoImage(img)\n",
    "\n",
    "autoMLButton = Button(frame, i=image, bg=\"white\")\n",
    "autoMLButton.photo=image\n",
    "autoMLButton.grid(row=3, column=0, columnspan=3, padx=20, pady=(40, 0))\n",
    "\n",
    "autoMLLabel = Label(frame, text=\"Auto ML Model Trainer\", font=(\"Times New Roman\", 20, \"bold\"), fg=\"white\", bg=\"black\")\n",
    "autoMLLabel.grid(row=4, column=0, columnspan=3, padx=20, pady=(0, 40))\n",
    "\n",
    "\n",
    "root.mainloop()"
   ]
  },
  {
   "cell_type": "code",
   "execution_count": 8,
   "metadata": {},
   "outputs": [
    {
     "data": {
      "text/plain": [
       "'/home/aman/Documents/WORK/My Projects/Machine Learning/Computer-Vision-Utilities/ImagePreProcess'"
      ]
     },
     "execution_count": 8,
     "metadata": {},
     "output_type": "execute_result"
    }
   ],
   "source": [
    "pwd"
   ]
  },
  {
   "cell_type": "code",
   "execution_count": null,
   "metadata": {},
   "outputs": [],
   "source": []
  }
 ],
 "metadata": {
  "kernelspec": {
   "display_name": "base",
   "language": "python",
   "name": "python3"
  },
  "language_info": {
   "codemirror_mode": {
    "name": "ipython",
    "version": 3
   },
   "file_extension": ".py",
   "mimetype": "text/x-python",
   "name": "python",
   "nbconvert_exporter": "python",
   "pygments_lexer": "ipython3",
   "version": "3.10.9"
  },
  "orig_nbformat": 4
 },
 "nbformat": 4,
 "nbformat_minor": 2
}
